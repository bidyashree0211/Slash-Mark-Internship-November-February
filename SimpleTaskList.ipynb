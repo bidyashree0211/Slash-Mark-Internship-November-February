import pandas as pd
from sklearn.feature_extraction.text import CountVectorizer
from sklearn.naive_bayes import MultinomialNB
from sklearn.pipeline import make_pipeline
import random

class Task:
    def __init__(self, description, priority):
        self.description = description
        self.priority = priority

class TaskList:
    def __init__(self):
        self.tasks = pd.DataFrame(columns=['description', 'priority'])
        try:
            self.tasks = pd.read_csv('tasks.csv')
        except FileNotFoundError:
            pass

    def save_tasks(self):
        self.tasks.to_csv('tasks.csv', index=False)

    def add_task(self, description, priority):
        new_task = pd.DataFrame({'description': [description], 'priority': [priority]})
        self.tasks = pd.concat([self.tasks, new_task], ignore_index=True)
        self.save_tasks()

    def remove_task(self, description):
        self.tasks = self.tasks[self.tasks['description'] != description]
        self.save_tasks()

    def list_tasks(self):
        print(self.tasks) if not self.tasks.empty else print("No tasks available.")

    def recommend_task(self):
        high_priority_tasks = self.tasks[self.tasks['priority'] == 'High']
        if not high_priority_tasks.empty:
            random_task = random.choice(high_priority_tasks['description'])
            print(f"Recommended task: {random_task} - Priority: High")
        else:
            print("No high-priority tasks available for recommendation.")

def main():
    task_list = TaskList()
    while True:
        print("\nTask Management App")
        print("1. Add Task\n2. Remove Task\n3. List Tasks\n4. Recommend Task\n5. Exit")

        choice = input("Select an option: ")

        if choice == "1":
            description = input("Enter task description: ")
            priority = input("Enter task priority (Low/Medium/High): ").capitalize()
            task_list.add_task(description, priority)
            print("Task added successfully.")

        elif choice == "2":
            description = input("Enter task description to remove: ")
            task_list.remove_task(description)
            print("Task removed successfully.")

        elif choice == "3":
            task_list.list_tasks()

        elif choice == "4":
            task_list.recommend_task()

        elif choice == "5":
            print("Goodbye!")
            break

        else:
            print("Invalid option. Please select a valid option.")

if __name__ == "__main__":
    main()
